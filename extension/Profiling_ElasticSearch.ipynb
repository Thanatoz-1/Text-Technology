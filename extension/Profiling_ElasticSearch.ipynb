{
 "cells": [
  {
   "cell_type": "code",
   "execution_count": 1,
   "metadata": {},
   "outputs": [],
   "source": [
    "from elasticsearch import Elasticsearch"
   ]
  },
  {
   "cell_type": "code",
   "execution_count": null,
   "metadata": {},
   "outputs": [],
   "source": [
    "es = Elasticsearch(\"http://localhost:9200\")\n",
    "db = es.indices.create(index=\"tt_test\")"
   ]
  },
  {
   "cell_type": "code",
   "execution_count": 8,
   "metadata": {},
   "outputs": [
    {
     "name": "stdout",
     "output_type": "stream",
     "text": [
      "{'acknowledged': True, 'shards_acknowledged': True, 'index': 'tt_test'}\n"
     ]
    }
   ],
   "source": [
    "print(db)"
   ]
  },
  {
   "cell_type": "code",
   "execution_count": 11,
   "metadata": {},
   "outputs": [],
   "source": [
    "import os\n",
    "import xmltodict\n",
    "import json"
   ]
  },
  {
   "cell_type": "code",
   "execution_count": null,
   "metadata": {},
   "outputs": [],
   "source": [
    "files = os.listdir(\"./Data/JSON\")\n",
    "files.pop(0)\n",
    "sorted(files)\n"
   ]
  },
  {
   "cell_type": "code",
   "execution_count": 27,
   "metadata": {},
   "outputs": [],
   "source": [
    "res = xmltodict.parse(open(os.path.join(\"./Data/JSON\", files[0])).read())"
   ]
  },
  {
   "cell_type": "code",
   "execution_count": null,
   "metadata": {},
   "outputs": [],
   "source": [
    "res[\"items\"][\"item\"]"
   ]
  },
  {
   "cell_type": "code",
   "execution_count": 29,
   "metadata": {},
   "outputs": [
    {
     "name": "stdout",
     "output_type": "stream",
     "text": [
      "10128\n"
     ]
    }
   ],
   "source": [
    "total_docs = 0\n",
    "result = []\n",
    "for file in files:\n",
    "    res = xmltodict.parse(open(os.path.join(\"./Data/JSON\", files[0])).read())\n",
    "    total_docs += len(res[\"items\"][\"item\"])\n",
    "    result.extend(res[\"items\"][\"item\"])\n",
    "\n",
    "result = [dict(i) for i in result]\n",
    "\n",
    "print(total_docs)"
   ]
  },
  {
   "cell_type": "code",
   "execution_count": 30,
   "metadata": {},
   "outputs": [],
   "source": [
    "titles = [i[\"title\"] for i in result]\n",
    "authors = [i[\"author\"] for i in result]\n",
    "abstracts = [i[\"abstract\"] for i in result]\n",
    "urls = [i[\"url\"] for i in result]"
   ]
  },
  {
   "cell_type": "code",
   "execution_count": 31,
   "metadata": {},
   "outputs": [],
   "source": [
    "from random import randint\n",
    "from tqdm.autonotebook import tqdm"
   ]
  },
  {
   "cell_type": "code",
   "execution_count": 32,
   "metadata": {},
   "outputs": [
    {
     "name": "stderr",
     "output_type": "stream",
     "text": [
      "  0%|          | 0/1000000 [00:00<?, ?it/s]<timed exec>:8: DeprecationWarning: The 'body' parameter is deprecated and will be removed in a future version. Instead use the 'document' parameter. See https://github.com/elastic/elasticsearch-py/issues/1698 for more information\n",
      "<timed exec>:8: ElasticsearchWarning: Elasticsearch built-in security features are not enabled. Without authentication, your cluster could be accessible to anyone. See https://www.elastic.co/guide/en/elasticsearch/reference/7.16/security-minimal-setup.html to enable security.\n",
      "1000001it [5:51:02, 47.48it/s]\n"
     ]
    },
    {
     "name": "stdout",
     "output_type": "stream",
     "text": [
      "finished creating one million papers indices\n",
      "CPU times: user 3h 25min 42s, sys: 29min 54s, total: 3h 55min 37s\n",
      "Wall time: 5h 51min 2s\n"
     ]
    }
   ],
   "source": [
    "%%time\n",
    "\n",
    "for x in tqdm(range(1, 1000002), total=1000000):\n",
    "    paper = {\n",
    "        'title' : titles[randint(0, (len(titles)-1))] + ' ' + titles[randint(0, (len(titles)-1))],\n",
    "        'author' : authors[randint(0, (len(authors)-1))] + ' ' + authors[randint(0, (len(authors)-1))],\n",
    "        'abstract' : abstracts[randint(0, (len(abstracts)-1))]\n",
    "    }\n",
    "\n",
    "    es.index(index=\"tt_test\", body=paper)\n",
    "\n",
    "print('finished creating one million papers indices')"
   ]
  }
 ],
 "metadata": {
  "interpreter": {
   "hash": "40d3a090f54c6569ab1632332b64b2c03c39dcf918b08424e98f38b5ae0af88f"
  },
  "kernelspec": {
   "display_name": "Python 3",
   "language": "python",
   "name": "python3"
  },
  "language_info": {
   "codemirror_mode": {
    "name": "ipython",
    "version": 3
   },
   "file_extension": ".py",
   "mimetype": "text/x-python",
   "name": "python",
   "nbconvert_exporter": "python",
   "pygments_lexer": "ipython3",
   "version": "3.9.7"
  }
 },
 "nbformat": 4,
 "nbformat_minor": 4
}

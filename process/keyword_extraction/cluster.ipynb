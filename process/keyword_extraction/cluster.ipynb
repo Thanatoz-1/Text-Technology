{
 "cells": [
  {
   "cell_type": "code",
   "execution_count": 1,
   "metadata": {
    "executionInfo": {
     "elapsed": 2041,
     "status": "ok",
     "timestamp": 1645628553845,
     "user": {
      "displayName": "Easion",
      "photoUrl": "https://lh3.googleusercontent.com/a-/AOh14GidVM3Zwzvv68A9mBhDCxuMOh3et_teKEg0BSwx=s64",
      "userId": "12241261983555706169"
     },
     "user_tz": -60
    },
    "id": "SszW2c_88gen"
   },
   "outputs": [],
   "source": [
    "import pandas as pd\n",
    "import numpy as np\n",
    "import gensim\n",
    "import gensim.downloader as gensim_api\n",
    "from bs4 import BeautifulSoup\n",
    "import spacy\n",
    "import xml.etree.ElementTree as ET \n",
    "import pickle"
   ]
  },
  {
   "cell_type": "markdown",
   "metadata": {
    "id": "FJYxQECEICAH"
   },
   "source": [
    "## Preparation\n",
    "\n",
    "- load all papers\n",
    "- download a pretrained model for vector-representation based KMeans\n",
    "- extract index terms\n",
    "- normalize/lemmatize text."
   ]
  },
  {
   "cell_type": "markdown",
   "metadata": {
    "id": "jwN3a-1EPgde"
   },
   "source": [
    "### Load all papers"
   ]
  },
  {
   "cell_type": "code",
   "execution_count": 6,
   "metadata": {
    "executionInfo": {
     "elapsed": 319,
     "status": "ok",
     "timestamp": 1645628898800,
     "user": {
      "displayName": "Easion",
      "photoUrl": "https://lh3.googleusercontent.com/a-/AOh14GidVM3Zwzvv68A9mBhDCxuMOh3et_teKEg0BSwx=s64",
      "userId": "12241261983555706169"
     },
     "user_tz": -60
    },
    "id": "UwuHR6qSSvY-"
   },
   "outputs": [],
   "source": [
    "class XMLLoader:\n",
    "    def __init__(self):\n",
    "        self.xmls = []\n",
    "        self.items = []\n",
    "        \n",
    "    def add_ans(self, i, affs, iterms):\n",
    "        self.items[i]['affiliations'] = affs\n",
    "        self.items[i]['keywords'] = iterms\n",
    "        \n",
    "    def dump(self, path):\n",
    "        with open(path, 'wb') as f:\n",
    "            pickle.dump(self.items, f)\n",
    "                \n",
    "    def read_xml(self, year, xml_path):\n",
    "        \"\"\"\n",
    "        return the BeautifulSoup parsed result of a given xml file\n",
    "        \"\"\"\n",
    "        xml_path = xml_path.strip()\n",
    "        with open(xml_path, 'r') as f:\n",
    "            content = f.read()\n",
    "            bs_content = BeautifulSoup(content, 'lxml')\n",
    "            \n",
    "            for item in bs_content.find_all('item'):\n",
    "                title = item.title.get_text()\n",
    "                abstract = item.abstract.get_text()\n",
    "                author = item.author.get_text().split(',')\n",
    "                url = item.url.get_text()\n",
    "                ans = {'conf': 'INTERSPEECH', \n",
    "                   'year': year, \n",
    "                   'title': title, \n",
    "                   'abstract': abstract, \n",
    "                   'authors': author, \n",
    "                   'affiliations': [], \n",
    "                   'keywords': [], \n",
    "                   'url': url}\n",
    "                self.items.append(ans)"
   ]
  },
  {
   "cell_type": "code",
   "execution_count": 4,
   "metadata": {
    "executionInfo": {
     "elapsed": 20,
     "status": "ok",
     "timestamp": 1645628656766,
     "user": {
      "displayName": "Easion",
      "photoUrl": "https://lh3.googleusercontent.com/a-/AOh14GidVM3Zwzvv68A9mBhDCxuMOh3et_teKEg0BSwx=s64",
      "userId": "12241261983555706169"
     },
     "user_tz": -60
    },
    "id": "hL9OsNaUS4wA"
   },
   "outputs": [],
   "source": [
    "with open('final.pkl', 'rb') as f:\n",
    "    xml_loader = pickle.load(f)"
   ]
  },
  {
   "cell_type": "markdown",
   "metadata": {
    "id": "LBBxQzn9Pk-B"
   },
   "source": [
    "### Download a pretrained model"
   ]
  },
  {
   "cell_type": "code",
   "execution_count": 5,
   "metadata": {
    "colab": {
     "base_uri": "https://localhost:8080/"
    },
    "executionInfo": {
     "elapsed": 33142,
     "status": "ok",
     "timestamp": 1645628705558,
     "user": {
      "displayName": "Easion",
      "photoUrl": "https://lh3.googleusercontent.com/a-/AOh14GidVM3Zwzvv68A9mBhDCxuMOh3et_teKEg0BSwx=s64",
      "userId": "12241261983555706169"
     },
     "user_tz": -60
    },
    "id": "sCZzDCugHLn_",
    "outputId": "7ce1283d-bb11-4b6e-ca9a-675f9c6764af"
   },
   "outputs": [
    {
     "name": "stdout",
     "output_type": "stream",
     "text": [
      "[==================================================] 100.0% 66.0/66.0MB downloaded\n"
     ]
    }
   ],
   "source": [
    "import gensim.downloader as api\n",
    "model = api.load(\"glove-wiki-gigaword-50\")"
   ]
  },
  {
   "cell_type": "markdown",
   "metadata": {
    "id": "4hGAsNsJPoGz"
   },
   "source": [
    "### Extract Index Terms"
   ]
  },
  {
   "cell_type": "code",
   "execution_count": 8,
   "metadata": {
    "executionInfo": {
     "elapsed": 407,
     "status": "ok",
     "timestamp": 1645628943591,
     "user": {
      "displayName": "Easion",
      "photoUrl": "https://lh3.googleusercontent.com/a-/AOh14GidVM3Zwzvv68A9mBhDCxuMOh3et_teKEg0BSwx=s64",
      "userId": "12241261983555706169"
     },
     "user_tz": -60
    },
    "id": "EVas-32ZhXIJ"
   },
   "outputs": [],
   "source": [
    "# extract index terms\n",
    "index_terms = []\n",
    "original_terms = []\n",
    "for item in xml_loader.items:\n",
    "    for kw in item['keywords']:\n",
    "        index_terms.append(kw.split())\n",
    "        original_terms.append(kw)"
   ]
  },
  {
   "cell_type": "markdown",
   "metadata": {
    "id": "46s6XHG-PrGg"
   },
   "source": [
    "### Lemmatize Index Terms"
   ]
  },
  {
   "cell_type": "code",
   "execution_count": 9,
   "metadata": {
    "colab": {
     "base_uri": "https://localhost:8080/"
    },
    "executionInfo": {
     "elapsed": 76127,
     "status": "ok",
     "timestamp": 1645629021543,
     "user": {
      "displayName": "Easion",
      "photoUrl": "https://lh3.googleusercontent.com/a-/AOh14GidVM3Zwzvv68A9mBhDCxuMOh3et_teKEg0BSwx=s64",
      "userId": "12241261983555706169"
     },
     "user_tz": -60
    },
    "id": "s_KjTLNjyNwX",
    "outputId": "7c5dc444-5e63-4037-8e90-b28aa45bb0d2"
   },
   "outputs": [
    {
     "name": "stderr",
     "output_type": "stream",
     "text": [
      "100%|██████████| 38221/38221 [01:15<00:00, 507.94it/s]\n"
     ]
    }
   ],
   "source": [
    "# normalize/lemmatize index terms\n",
    "from tqdm import tqdm\n",
    "nlp = spacy.load('en', disable=['parser', 'ner'])\n",
    "def lemmatization(words, original_words, allowed_postags=['NOUN', 'ADJ', 'VERB', 'ADV']):\n",
    "    ret = []\n",
    "    index2lemma = {}\n",
    "    for idx, sent in enumerate(tqdm(words)):\n",
    "        doc = nlp(\" \".join(sent))\n",
    "        ret.append(\" \".join([token.lemma_ if token.lemma_ not in ['-PRON-'] else '' for token in doc if token.pos_ in allowed_postags]))\n",
    "        old_word = original_words[idx]\n",
    "        new_word = ret[-1]\n",
    "        index2lemma[old_word] = new_word\n",
    "    return ret, index2lemma\n",
    "\n",
    "# Only use open class data\n",
    "lemmas, index2lemma = lemmatization(index_terms, original_terms)\n",
    "data_uniq = list(set(lemmas))"
   ]
  },
  {
   "cell_type": "markdown",
   "metadata": {
    "id": "jxBrjrv1IS7q"
   },
   "source": [
    "## Vector-represation Based KMeans\n",
    "- embed index terms\n",
    "- run KMeans with sklearn package\n",
    "- present cluster results"
   ]
  },
  {
   "cell_type": "markdown",
   "metadata": {
    "id": "tQ6tXECSPx3L"
   },
   "source": [
    "### Embed Index Terms"
   ]
  },
  {
   "cell_type": "code",
   "execution_count": 10,
   "metadata": {
    "colab": {
     "base_uri": "https://localhost:8080/"
    },
    "executionInfo": {
     "elapsed": 427,
     "status": "ok",
     "timestamp": 1645629053552,
     "user": {
      "displayName": "Easion",
      "photoUrl": "https://lh3.googleusercontent.com/a-/AOh14GidVM3Zwzvv68A9mBhDCxuMOh3et_teKEg0BSwx=s64",
      "userId": "12241261983555706169"
     },
     "user_tz": -60
    },
    "id": "67QzXKYNl6ly",
    "outputId": "c089fb39-ba31-4066-85e5-d1915cc602e3"
   },
   "outputs": [
    {
     "name": "stderr",
     "output_type": "stream",
     "text": [
      "100%|██████████| 10038/10038 [00:00<00:00, 48773.97it/s]\n"
     ]
    }
   ],
   "source": [
    "# embed index terms\n",
    "def embed_index_term(terms, model):\n",
    "    fail = []\n",
    "    success = []\n",
    "    label = []\n",
    "    for keys in tqdm(terms):\n",
    "        keys = keys.strip().split()\n",
    "        status, vec = embed_one(keys, model)\n",
    "        if status:\n",
    "            success.append(vec)\n",
    "            label.append(' '.join(keys))\n",
    "        else:\n",
    "            fail.append(vec)\n",
    "    return fail, success, label\n",
    "\n",
    "def embed_one(keys, model):\n",
    "    all_in = True\n",
    "    for key in keys:\n",
    "        if key not in model.vocab:\n",
    "            all_in = False\n",
    "            break\n",
    "    \n",
    "    if not all_in:\n",
    "        return False, keys\n",
    "    ret = np.zeros((50), dtype=float)\n",
    "    for key in keys:\n",
    "        ret += np.array(model[key], dtype=float)\n",
    "    return True, ret\n",
    "fail, success, label = embed_index_term(data_uniq, model)"
   ]
  },
  {
   "cell_type": "markdown",
   "metadata": {
    "id": "0P8gA9yOPzxO"
   },
   "source": [
    "### Run KMeans"
   ]
  },
  {
   "cell_type": "code",
   "execution_count": 12,
   "metadata": {
    "colab": {
     "base_uri": "https://localhost:8080/"
    },
    "executionInfo": {
     "elapsed": 23593,
     "status": "ok",
     "timestamp": 1645629107350,
     "user": {
      "displayName": "Easion",
      "photoUrl": "https://lh3.googleusercontent.com/a-/AOh14GidVM3Zwzvv68A9mBhDCxuMOh3et_teKEg0BSwx=s64",
      "userId": "12241261983555706169"
     },
     "user_tz": -60
    },
    "id": "SP_DPkcLpZzM",
    "outputId": "35de8380-b8d4-4f57-b385-e9bc2a96ebd2"
   },
   "outputs": [
    {
     "data": {
      "text/plain": [
       "KMeans(n_clusters=150)"
      ]
     },
     "execution_count": 12,
     "metadata": {},
     "output_type": "execute_result"
    }
   ],
   "source": [
    "# cluster \n",
    "from sklearn.cluster import KMeans\n",
    "from sklearn.decomposition import PCA\n",
    "\n",
    "kmeans = KMeans(n_clusters=150, init='k-means++')\n",
    "data_mat = np.array(success)\n",
    "kmeans.fit(data_mat)"
   ]
  },
  {
   "cell_type": "markdown",
   "metadata": {
    "id": "RivjoEsiP3nC"
   },
   "source": [
    "### Show Results"
   ]
  },
  {
   "cell_type": "code",
   "execution_count": 13,
   "metadata": {
    "executionInfo": {
     "elapsed": 422,
     "status": "ok",
     "timestamp": 1645629110911,
     "user": {
      "displayName": "Easion",
      "photoUrl": "https://lh3.googleusercontent.com/a-/AOh14GidVM3Zwzvv68A9mBhDCxuMOh3et_teKEg0BSwx=s64",
      "userId": "12241261983555706169"
     },
     "user_tz": -60
    },
    "id": "KUcIg4_hp2ys"
   },
   "outputs": [],
   "source": [
    "# show cluster results\n",
    "cluster = [[] for i in range(150)]\n",
    "for idx, c in enumerate(kmeans.labels_):\n",
    "    cluster[c].append(idx)"
   ]
  },
  {
   "cell_type": "code",
   "execution_count": 15,
   "metadata": {
    "colab": {
     "base_uri": "https://localhost:8080/"
    },
    "executionInfo": {
     "elapsed": 10,
     "status": "ok",
     "timestamp": 1645629142652,
     "user": {
      "displayName": "Easion",
      "photoUrl": "https://lh3.googleusercontent.com/a-/AOh14GidVM3Zwzvv68A9mBhDCxuMOh3et_teKEg0BSwx=s64",
      "userId": "12241261983555706169"
     },
     "user_tz": -60
    },
    "id": "vKG7C1fuPYHz",
    "outputId": "a873ea48-6d56-4feb-d828-a3af4f0fa097"
   },
   "outputs": [
    {
     "name": "stdout",
     "output_type": "stream",
     "text": [
      "dialogue learning\n",
      "feature normalization\n",
      "dialog policy\n",
      "entity normalization\n",
      "dialogue structure\n",
      "spontaneous dialog\n",
      "joint decoding\n",
      "sign synthesis\n",
      "mutual intelligibility\n",
      "meeting summarization\n",
      "problematic dialogue\n",
      "phase wrapping\n",
      "qualitative agreement\n",
      "dialog act\n",
      "nuclear norm regularization\n",
      "spatial resolution\n",
      "dialog separation\n",
      "normalize flow\n",
      "normalization\n",
      "dialogue flow\n",
      "pitch normalization\n",
      "dialog history\n",
      "dialog strategy\n",
      "dialogue act\n",
      "bilateral implant\n",
      "batch normalization\n",
      "score normalization\n",
      "dialogue behavior\n",
      "task orient dialog\n",
      "unsupervised normalization\n",
      "problematic dialog\n",
      "dialogue sequence labeling\n",
      "breakdown dialog\n",
      "listen orient dialogue\n",
      "gesture coordination\n",
      "cooperative principle\n",
      "dialogue agent\n",
      "dialogue ranking\n",
      "dialogue\n",
      "joint diagonalization\n",
      "normalization flow\n",
      "dialogue classification\n",
      "speech normalization\n",
      "task orient dialogue\n",
      "audiovisual integration\n",
      "extractive meeting summarization\n",
      "score normalisation\n",
      "dialogue segmentation\n",
      "length normalization\n",
      "power normalization\n",
      "dialogue design\n",
      "dialog structure\n",
      "tone normalization\n",
      "negotiation\n",
      "mediate alignment\n",
      "framework\n",
      "statistical normalisation\n",
      "dialogue collection\n",
      "parliamentary transcription\n",
      "irrelevant variability normalization\n",
      "normalisation\n",
      "goal orient dialog utterance\n",
      "source normalization\n",
      "transcription agreement\n",
      "text normalization\n",
      "agreement disagreement\n",
      "human dialogue\n",
      "meeting transcription\n",
      "dialog rule\n",
      "mutual reinforcement\n"
     ]
    }
   ],
   "source": [
    "show_id = 3\n",
    "for x in cluster[show_id]:\n",
    "    print(label[x])"
   ]
  },
  {
   "cell_type": "code",
   "execution_count": 16,
   "metadata": {
    "colab": {
     "base_uri": "https://localhost:8080/",
     "height": 284
    },
    "executionInfo": {
     "elapsed": 937,
     "status": "ok",
     "timestamp": 1645629153611,
     "user": {
      "displayName": "Easion",
      "photoUrl": "https://lh3.googleusercontent.com/a-/AOh14GidVM3Zwzvv68A9mBhDCxuMOh3et_teKEg0BSwx=s64",
      "userId": "12241261983555706169"
     },
     "user_tz": -60
    },
    "id": "BATGKPq1q4lQ",
    "outputId": "a4176dd8-08b4-4c5c-aac6-997f5436db05"
   },
   "outputs": [
    {
     "data": {
      "text/plain": [
       "<BarContainer object of 100 artists>"
      ]
     },
     "execution_count": 16,
     "metadata": {},
     "output_type": "execute_result"
    },
    {
     "data": {
      "image/png": "[encoded data removed]",
      "text/plain": [
       "<Figure size 432x288 with 1 Axes>"
      ]
     },
     "metadata": {
      "needs_background": "light"
     },
     "output_type": "display_data"
    }
   ],
   "source": [
    "# cluster size distribution\n",
    "import matplotlib.pyplot as plt \n",
    "plots = []\n",
    "for i in range(100):\n",
    "    plots.append(len(cluster[i]))\n",
    "fig, ax = plt.subplots()\n",
    "ax.bar(list(range(len(plots))), plots)"
   ]
  },
  {
   "cell_type": "markdown",
   "metadata": {
    "id": "rGEvHtW9tv8c"
   },
   "source": [
    "## Weighted Levenshtein Distance based KMeans\n",
    "- prepare WER function. Given the ref and hyp string, WER function returns the number of substitution, insertion, and deletion needed to transform ref to hyp. \n",
    "- If there're not many index terms, then prepare a distance matrix to accelerate the later clustering process; Otherwise, please compute the distance on the fly.\n",
    "- Run kmeans\n",
    "    - The cluster center is the index term with the least distance to the other cluster members.\n",
    "    - Substitution weight: 1.0, Insertion weight: 0.8, Deleteion weight: 1.0\n",
    "    - We prefer the insertion error than the other twos, because a ref index term with more insertion errors than the other two types of errors, can cover a broader topic. \n",
    "    - e.g.: ref=[`noise`, `noise classification`], hyp=[`noise cancelling`], although both ref index terms have 1 WER value, `noise`(with 1 insertion error) is a better center than `noise classification`(with 1 substitution error), because it covers `noise cancelling`, while `noise classification` falls into a different topic.\n",
    "- Mapping: store results to `cluster.pkl`, which could map index term to a cluster represative word\n"
   ]
  },
  {
   "cell_type": "markdown",
   "metadata": {
    "id": "sv45U6cyOZOA"
   },
   "source": [
    "### Prepare WER function"
   ]
  },
  {
   "cell_type": "code",
   "execution_count": null,
   "metadata": {
    "id": "JS25oyySwmmC"
   },
   "outputs": [],
   "source": [
    "# copy from https://holianh.github.io/portfolio/Cach-tinh-WER/#:~:text=WER-,Word%20Error%20Rate%20(WER)%20and%20Word,Recognition%20Rate%20(WRR)%20with%20Python&text=WER%20has%20been%20developed%20and,real%20text%20%2D%20called%20the%20reference.\n",
    "def my_wer(ref, hyp ,debug=False):\n",
    "    r = ref.split()\n",
    "    h = hyp.split()\n",
    "    #costs will holds the costs, like in the Levenshtein distance algorithm\n",
    "    costs = [[0 for inner in range(len(h)+1)] for outer in range(len(r)+1)]\n",
    "    # backtrace will hold the operations we've done.\n",
    "    # so we could later backtrace, like the WER algorithm requires us to.\n",
    "    backtrace = [[0 for inner in range(len(h)+1)] for outer in range(len(r)+1)]\n",
    "\n",
    "    OP_OK = 0\n",
    "    OP_SUB = 1\n",
    "    OP_INS = 2\n",
    "    OP_DEL = 3\n",
    "\n",
    "    DEL_PENALTY=1 # Tact\n",
    "    INS_PENALTY=1 # Tact\n",
    "    SUB_PENALTY=1 # Tact\n",
    "    # First column represents the case where we achieve zero\n",
    "    # hypothesis words by deleting all reference words.\n",
    "    for i in range(1, len(r)+1):\n",
    "        costs[i][0] = DEL_PENALTY*i\n",
    "        backtrace[i][0] = OP_DEL\n",
    "\n",
    "    # First row represents the case where we achieve the hypothesis\n",
    "    # by inserting all hypothesis words into a zero-length reference.\n",
    "    for j in range(1, len(h) + 1):\n",
    "        costs[0][j] = INS_PENALTY * j\n",
    "        backtrace[0][j] = OP_INS\n",
    "\n",
    "    # computation\n",
    "    for i in range(1, len(r)+1):\n",
    "        for j in range(1, len(h)+1):\n",
    "            if r[i-1] == h[j-1]:\n",
    "                costs[i][j] = costs[i-1][j-1]\n",
    "                backtrace[i][j] = OP_OK\n",
    "            else:\n",
    "                substitutionCost = costs[i-1][j-1] + SUB_PENALTY # penalty is always 1\n",
    "                insertionCost    = costs[i][j-1] + INS_PENALTY   # penalty is always 1\n",
    "                deletionCost     = costs[i-1][j] + DEL_PENALTY   # penalty is always 1\n",
    "\n",
    "                costs[i][j] = min(substitutionCost, insertionCost, deletionCost)\n",
    "                if costs[i][j] == substitutionCost:\n",
    "                    backtrace[i][j] = OP_SUB\n",
    "                elif costs[i][j] == insertionCost:\n",
    "                    backtrace[i][j] = OP_INS\n",
    "                else:\n",
    "                    backtrace[i][j] = OP_DEL\n",
    "\n",
    "    # back trace though the best route:\n",
    "    i = len(r)\n",
    "    j = len(h)\n",
    "    numSub = 0\n",
    "    numDel = 0\n",
    "    numIns = 0\n",
    "    numCor = 0\n",
    "    if debug:\n",
    "        print(\"OP\\tREF\\tHYP\")\n",
    "        lines = []\n",
    "    while i > 0 or j > 0:\n",
    "        if backtrace[i][j] == OP_OK:\n",
    "            numCor += 1\n",
    "            i-=1\n",
    "            j-=1\n",
    "            if debug:\n",
    "                lines.append(\"OK\\t\" + r[i]+\"\\t\"+h[j])\n",
    "        elif backtrace[i][j] == OP_SUB:\n",
    "            numSub +=1\n",
    "            i-=1\n",
    "            j-=1\n",
    "            if debug:\n",
    "                lines.append(\"SUB\\t\" + r[i]+\"\\t\"+h[j])\n",
    "        elif backtrace[i][j] == OP_INS:\n",
    "            numIns += 1\n",
    "            j-=1\n",
    "            if debug:\n",
    "                lines.append(\"INS\\t\" + \"****\" + \"\\t\" + h[j])\n",
    "        elif backtrace[i][j] == OP_DEL:\n",
    "            numDel += 1\n",
    "            i-=1\n",
    "            if debug:\n",
    "                lines.append(\"DEL\\t\" + r[i]+\"\\t\"+\"****\")\n",
    "    if debug:\n",
    "        lines = reversed(lines)\n",
    "        for line in lines:\n",
    "            print(line)\n",
    "        print(\"Ncor \" + str(numCor))\n",
    "        print(\"Nsub \" + str(numSub))\n",
    "        print(\"Ndel \" + str(numDel))\n",
    "        print(\"Nins \" + str(numIns))\n",
    "    return numSub, numIns, numDel"
   ]
  },
  {
   "cell_type": "code",
   "execution_count": null,
   "metadata": {
    "colab": {
     "base_uri": "https://localhost:8080/"
    },
    "executionInfo": {
     "elapsed": 257,
     "status": "ok",
     "timestamp": 1645442039210,
     "user": {
      "displayName": "Easion",
      "photoUrl": "https://lh3.googleusercontent.com/a-/AOh14GidVM3Zwzvv68A9mBhDCxuMOh3et_teKEg0BSwx=s64",
      "userId": "12241261983555706169"
     },
     "user_tz": -60
    },
    "id": "ajFQ6w86vzW5",
    "outputId": "6e77bba7-747b-4bfd-8b2a-797abca86c67"
   },
   "outputs": [
    {
     "name": "stdout",
     "output_type": "stream",
     "text": [
      "(0, 1, 0)\n"
     ]
    }
   ],
   "source": [
    "print(my_wer(\"hello world\", \"hello hi world\"))"
   ]
  },
  {
   "cell_type": "markdown",
   "metadata": {
    "id": "MpQsGPPaOdon"
   },
   "source": [
    "### Prepare distance matrix"
   ]
  },
  {
   "cell_type": "code",
   "execution_count": null,
   "metadata": {
    "colab": {
     "base_uri": "https://localhost:8080/"
    },
    "executionInfo": {
     "elapsed": 1581868,
     "status": "ok",
     "timestamp": 1645443733519,
     "user": {
      "displayName": "Easion",
      "photoUrl": "https://lh3.googleusercontent.com/a-/AOh14GidVM3Zwzvv68A9mBhDCxuMOh3et_teKEg0BSwx=s64",
      "userId": "12241261983555706169"
     },
     "user_tz": -60
    },
    "id": "DIknFNZiyNOj",
    "outputId": "b4e833bd-d132-4d6b-b8af-baa9a8e0890d"
   },
   "outputs": [
    {
     "name": "stderr",
     "output_type": "stream",
     "text": [
      "9224it [26:21,  5.83it/s]\n"
     ]
    }
   ],
   "source": [
    "# prepare distance matrix\n",
    "nword = len(label)\n",
    "distance_mat = np.zeros((nword, nword, 3), dtype=int)\n",
    "for rid, ref in tqdm(enumerate(label)):\n",
    "    for hid, hyp in enumerate(label):\n",
    "        s, i, d = my_wer(ref, hyp)\n",
    "        distance_mat[rid, hid, 0] = s\n",
    "        distance_mat[rid, hid, 1] = i\n",
    "        distance_mat[rid, hid, 2] = d\n",
    "\n",
    "# np.save('dist_mat', distant_mat)\n",
    "\n",
    "# weighted distance\n",
    "# sum_dist = distance_mat * np.array(0.9, 0.8, 1.0], dtype=float)\n",
    "sum_dist = distance_mat * np.array([1.0, 0.8, 1.0], dtype=float)\n",
    "sum_dist = np.sum(sum_dist, axis=2)\n",
    "print(sum_dist.shape)"
   ]
  },
  {
   "cell_type": "markdown",
   "metadata": {
    "id": "XS1Wx3CYOnSV"
   },
   "source": [
    "### Run KMeans"
   ]
  },
  {
   "cell_type": "code",
   "execution_count": 22,
   "metadata": {
    "colab": {
     "base_uri": "https://localhost:8080/"
    },
    "executionInfo": {
     "elapsed": 12149,
     "status": "ok",
     "timestamp": 1645630148269,
     "user": {
      "displayName": "Easion",
      "photoUrl": "https://lh3.googleusercontent.com/a-/AOh14GidVM3Zwzvv68A9mBhDCxuMOh3et_teKEg0BSwx=s64",
      "userId": "12241261983555706169"
     },
     "user_tz": -60
    },
    "id": "7FBAZzk-gLQC",
    "outputId": "ffe11a07-f2e2-4424-e4ef-fddfc0a7b18f"
   },
   "outputs": [
    {
     "name": "stderr",
     "output_type": "stream",
     "text": [
      "100%|██████████| 40/40 [00:12<00:00,  3.33it/s]\n"
     ]
    }
   ],
   "source": [
    "# run kmeans\n",
    "import random\n",
    "class LevenshteinKMeans:\n",
    "    def __init__(self, seeds, label, dist_mat, niter):\n",
    "        \"\"\" KMeans, with Levenshtein distance as the \n",
    "        distance metric\n",
    "        \"\"\"\n",
    "        self.label = label\n",
    "        self.init_seeds = seeds\n",
    "        self.dist_mat = dist_mat \n",
    "        self.niter = niter\n",
    "        self.nword = len(label)\n",
    "        self.ncluster = len(seeds)\n",
    "        self.clusters = None\n",
    "        self.cluster_ids = None\n",
    "\n",
    "    def adapt(self):\n",
    "        self.cluster_ids = self.init_seeds\n",
    "        for idx in tqdm(range(self.niter)):\n",
    "            self.clusters = self.assign_cluster(self.cluster_ids)\n",
    "            self.cluster_ids = self.recomputer_centers(self.clusters)\n",
    "\n",
    "    def assign_cluster(self, cluster_ids):\n",
    "        clusters = [[] for i in range(self.ncluster)]\n",
    "        for i in range(self.nword):\n",
    "            dist_to_seeds = self.dist_mat[i][cluster_ids]\n",
    "            min_id = self.get_min_id(dist_to_seeds)\n",
    "            clusters[min_id].append(i)\n",
    "        return clusters\n",
    "    \n",
    "    def get_min_id(self, dist_to_seeds):\n",
    "        \"\"\" Return the id of the most similar word, if there're multiple words\n",
    "        having the same edit distance to the ref, randomly return an id of them.\n",
    "        \"\"\"\n",
    "        min_val = dist_to_seeds.min()\n",
    "        candidates = (dist_to_seeds==min_val).nonzero()[0]\n",
    "        idx = random.randint(0, len(candidates)-1)\n",
    "        return candidates[idx]\n",
    "\n",
    "    def recomputer_centers(self, clusters):\n",
    "        centers = []\n",
    "        uniq_set = set()\n",
    "        uniq_set.add(0)\n",
    "        for cluster in clusters:\n",
    "            centers.append(self.find_center(cluster, uniq_set))\n",
    "        return centers\n",
    "\n",
    "    def find_center(self, cluster, uniq_set):\n",
    "        scores = []\n",
    "        for rid, ref in enumerate(cluster):\n",
    "            ref_to_others = self.dist_mat[ref][cluster]\n",
    "            scores.append([ref_to_others.sum(), ref])\n",
    "        scores.sort()\n",
    "        best_id = scores[0][1]\n",
    "        for _, id in scores:\n",
    "            if id in uniq_set:\n",
    "                continue\n",
    "            uniq_set.add(id)\n",
    "            best_id = id\n",
    "            break\n",
    "        return best_id\n",
    "\n",
    "rand_seeds = random.sample(range(1, len(label)), 150)\n",
    "lkmeans = LevenshteinKMeans(rand_seeds, label, sum_dist, 40)\n",
    "lkmeans.adapt()"
   ]
  },
  {
   "cell_type": "code",
   "execution_count": 32,
   "metadata": {
    "colab": {
     "base_uri": "https://localhost:8080/"
    },
    "executionInfo": {
     "elapsed": 15,
     "status": "ok",
     "timestamp": 1645630545552,
     "user": {
      "displayName": "Easion",
      "photoUrl": "https://lh3.googleusercontent.com/a-/AOh14GidVM3Zwzvv68A9mBhDCxuMOh3et_teKEg0BSwx=s64",
      "userId": "12241261983555706169"
     },
     "user_tz": -60
    },
    "id": "PdUVSXQbOT8d",
    "outputId": "c55aa3bb-7df5-4538-f662-cba8888e130e"
   },
   "outputs": [
    {
     "name": "stdout",
     "output_type": "stream",
     "text": [
      "center: adaptation\n",
      "dynamic adaptation\n",
      "adaptation know accent\n",
      "escalation\n",
      "adaptive decomposition\n",
      "computing\n",
      "regional\n",
      "affinity\n",
      "figure\n",
      "induction\n",
      "robustness outlier\n",
      "adaptation algorithm\n",
      "basis adaptation\n",
      "diversity\n",
      "multilingual adaptation\n",
      "fuse hmm adaptation\n",
      "channel adaptation\n",
      "phonetic adaptation\n",
      "room acoustic adaptation\n",
      "refined adaptation\n",
      "feature adaptation\n",
      "threshold\n",
      "adaptation regularization\n",
      "actor\n",
      "software library\n",
      "cut\n",
      "permutation free scheme\n",
      "native\n",
      "phrase boundary\n",
      "channel\n",
      "supervised adaptation\n",
      "category adaptation\n",
      "gain adaptation\n",
      "accent british isle\n",
      "loanword adaptation\n",
      "adaptation\n",
      "visual feedback\n",
      "adversarial example\n",
      "news summarization\n",
      "intra\n",
      "fold vibration\n",
      "self adaptation\n",
      "singer adaptation\n",
      "scale adaptation\n",
      "lexical adaptation\n",
      "germination\n",
      "normalization\n"
     ]
    }
   ],
   "source": [
    "# show results\n",
    "cluster_word = []\n",
    "for idx, kw in enumerate(lkmeans.cluster_ids):\n",
    "    cluster_word.append([lkmeans.label[kw], idx])\n",
    "cluster_word.sort()\n",
    "kw, kid = cluster_word[2]\n",
    "print('center:', kw)\n",
    "for member in lkmeans.clusters[kid]:\n",
    "    print(lkmeans.label[member])"
   ]
  },
  {
   "cell_type": "markdown",
   "metadata": {
    "id": "_Xq_d1YwO811"
   },
   "source": [
    "### Mapping: map index term to cluster representative or itself\n",
    "\n",
    "We only execute the mapper when there are common words between the index term and the cluster representative, otherwise the index term will be mapped to itself."
   ]
  },
  {
   "cell_type": "code",
   "execution_count": 33,
   "metadata": {
    "executionInfo": {
     "elapsed": 419,
     "status": "ok",
     "timestamp": 1645630811748,
     "user": {
      "displayName": "Easion",
      "photoUrl": "https://lh3.googleusercontent.com/a-/AOh14GidVM3Zwzvv68A9mBhDCxuMOh3et_teKEg0BSwx=s64",
      "userId": "12241261983555706169"
     },
     "user_tz": -60
    },
    "id": "iNc3kHYJOFr7"
   },
   "outputs": [],
   "source": [
    "class BuildMapper:\n",
    "    def __init__(self, clusters, cluster_ids, index2lemma, label):\n",
    "        self.clusters = clusters\n",
    "        self.label = label\n",
    "        self.cluster_ids = cluster_ids\n",
    "        self.index2cluster = {}\n",
    "        self.index2lemma = index2lemma\n",
    "    \n",
    "    def generate_mapping_dict(self):\n",
    "        \"\"\" Prepare a dict which can map an index term \n",
    "        to the cluster representative word\n",
    "        \"\"\"\n",
    "        lemma2cluster = {}\n",
    "        for idx in range(len(self.cluster_ids)):\n",
    "            center = self.label[self.cluster_ids[idx]]\n",
    "            center_dict = set(center.split(' '))\n",
    "            for index in self.clusters[idx]:\n",
    "                index_term = self.label[index]\n",
    "                hits = self.__cal_hit(center_dict, index_term) \n",
    "                if hits > 0:\n",
    "                    lemma2cluster[index_term] = center\n",
    "        \n",
    "        for index in self.index2lemma:\n",
    "            lemma = self.index2lemma[index]\n",
    "            if lemma in lemma2cluster:\n",
    "                cluster = lemma2cluster[lemma]\n",
    "                self.index2cluster[index] = cluster \n",
    "            else:\n",
    "                self.index2cluster[index] = lemma\n",
    "    \n",
    "    def __cal_hit(self, center_dict, index_term) -> int:\n",
    "        \"\"\" Return the number of hits. If there are k words both\n",
    "        exist in the center_dict and the index term, then\n",
    "        there are k hits in total.\n",
    "        \"\"\"\n",
    "        \n",
    "        cnt = 0\n",
    "        for w in index_term.split(' '):\n",
    "            w = w.strip()\n",
    "            if w in center_dict:\n",
    "                cnt += 1\n",
    "        \n",
    "        return cnt\n",
    "        \n",
    "pc = BuildMapper(lkmeans.clusters, lkmeans.cluster_ids, index2lemma, label) \n",
    "pc.generate_mapping_dict()\n",
    "new_keywords = []\n",
    "for k in pc.index2cluster:\n",
    "    new_keywords.append(pc.index2cluster[k])\n",
    "    \n",
    "with open('cluster.dict', 'wb') as f:\n",
    "    pickle.dump(pc.index2cluster, f)"
   ]
  }
 ],
 "metadata": {
  "colab": {
   "authorship_tag": "ABX9TyNwbownK/8M/HuTTz2dVP9S",
   "collapsed_sections": [
    "FJYxQECEICAH",
    "jwN3a-1EPgde",
    "LBBxQzn9Pk-B",
    "4hGAsNsJPoGz",
    "46s6XHG-PrGg",
    "jxBrjrv1IS7q",
    "tQ6tXECSPx3L",
    "0P8gA9yOPzxO",
    "RivjoEsiP3nC",
    "sv45U6cyOZOA"
   ],
   "machine_shape": "hm",
   "mount_file_id": "1l1Sxwg976YH7SCQspuDCf6qu2dUYa9-t",
   "name": "Edit Distance Based Clusters.ipynb",
   "provenance": []
  },
  "kernelspec": {
   "display_name": "Python 3",
   "language": "python",
   "name": "python3"
  },
  "language_info": {
   "codemirror_mode": {
    "name": "ipython",
    "version": 3
   },
   "file_extension": ".py",
   "mimetype": "text/x-python",
   "name": "python",
   "nbconvert_exporter": "python",
   "pygments_lexer": "ipython3",
   "version": "3.9.7"
  }
 },
 "nbformat": 4,
 "nbformat_minor": 4
}
